{
 "cells": [
  {
   "cell_type": "code",
   "execution_count": 3,
   "id": "6bf8c7e9-77cd-4273-9322-f2473e1427b7",
   "metadata": {},
   "outputs": [],
   "source": [
    "# Function to extract data from csv file bassed on columns names\n",
    "import pandas as pd\n",
    "import seaborn as sns\n",
    "import matplotlib.pyplot as plt\n",
    "import os\n",
    "import glob\n",
    "from sklearn import metrics\n",
    "\n",
    "\n",
    "def exctocsvtopandas():\n",
    "    path = r'C:\\Users\\KIIT\\Prerak\\Prerak_Code\\CorridorPlatforms\\corridor-platform\\data'\n",
    "    extension = 'xlsx'\n",
    "    os.chdir(path)\n",
    "    result = glob.glob('*.{}'.format(extension))\n",
    "    read_file = pd.read_excel(result[0])\n",
    "  \n",
    "    # Write the dataframe object\n",
    "    # into csv file\n",
    "    read_file.to_csv (\"Test.csv\", \n",
    "                      index = None,\n",
    "                      header=True)\n",
    "\n",
    "    # read csv file and convert \n",
    "    # into a dataframe object\n",
    "    df = pd.DataFrame(pd.read_csv(\"Test.csv\"))\n",
    "    return df\n"
   ]
  },
  {
   "cell_type": "code",
   "execution_count": 4,
   "id": "d0751289-d0db-41c3-8560-0254c81edd06",
   "metadata": {},
   "outputs": [
    {
     "name": "stdout",
     "output_type": "stream",
     "text": [
      "     monthly_salary   fico  utilization  card_limit  card_interest_rate  \\\n",
      "0           78780.0  897.0     0.131681     31032.0            0.037467   \n",
      "1           10065.0  794.0     0.062197     31697.0            0.034080   \n",
      "2           97434.0  880.0     0.084426     48998.0            0.096754   \n",
      "3          126755.0  729.0     0.007297     38827.0            0.041425   \n",
      "4           70696.0  624.0     0.154709      9082.0            0.055062   \n",
      "..              ...    ...          ...         ...                 ...   \n",
      "994         92808.0  767.0     0.142965     38832.0            0.072801   \n",
      "995         13853.0  823.0     0.005400     28031.0            0.095439   \n",
      "996        163112.0  726.0     0.010636     16501.0            0.023440   \n",
      "997        178632.0  725.0     0.139171     29530.0            0.049440   \n",
      "998        127292.0  823.0     0.095064     27206.0            0.069767   \n",
      "\n",
      "     model_output  model_target  \n",
      "0        0.223082           0.0  \n",
      "1        0.954314           1.0  \n",
      "2        0.990620           0.0  \n",
      "3        0.023174           0.0  \n",
      "4        0.107534           0.0  \n",
      "..            ...           ...  \n",
      "994      0.074261           0.0  \n",
      "995      0.398299           0.0  \n",
      "996      0.292492           0.0  \n",
      "997      0.095502           0.0  \n",
      "998      0.455757           0.0  \n",
      "\n",
      "[999 rows x 7 columns]\n"
     ]
    }
   ],
   "source": [
    "df = exctocsvtopandas()\n",
    "print(df)"
   ]
  },
  {
   "cell_type": "code",
   "execution_count": 13,
   "id": "eb630951-8ad8-422f-a3b1-76b009950d6a",
   "metadata": {},
   "outputs": [],
   "source": [
    "def confmat(actual, predicted, threshold):\n",
    "    df['discrete_pred'] = pd.cut(x=df[predicted], bins=[0, threshold, 1],\n",
    "                     labels=[0, 1])\n",
    "    print(df)\n",
    "    dir_name = r'C:\\Users\\KIIT\\Prerak\\Prerak_Code\\CorridorPlatforms\\corridor-platform\\extract\\generatedcharts'\n",
    "    plt.rcParams[\"savefig.directory\"] = os.chdir(os.path.dirname(dir_name))\n",
    "    confusion_matrix = metrics.confusion_matrix(df[actual], df['discrete_pred'])\n",
    "\n",
    "    cm_display = metrics.ConfusionMatrixDisplay(confusion_matrix = confusion_matrix, display_labels = [False, True])\n",
    "\n",
    "    cm_display.plot()\n",
    "    \n",
    "    plt.savefig('conf_mat.png')"
   ]
  },
  {
   "cell_type": "code",
   "execution_count": 14,
   "id": "e49dc259-722f-4334-a335-dbbae81bab00",
   "metadata": {},
   "outputs": [
    {
     "name": "stdout",
     "output_type": "stream",
     "text": [
      "     monthly_salary   fico  utilization  card_limit  card_interest_rate  \\\n",
      "0           78780.0  897.0     0.131681     31032.0            0.037467   \n",
      "1           10065.0  794.0     0.062197     31697.0            0.034080   \n",
      "2           97434.0  880.0     0.084426     48998.0            0.096754   \n",
      "3          126755.0  729.0     0.007297     38827.0            0.041425   \n",
      "4           70696.0  624.0     0.154709      9082.0            0.055062   \n",
      "..              ...    ...          ...         ...                 ...   \n",
      "994         92808.0  767.0     0.142965     38832.0            0.072801   \n",
      "995         13853.0  823.0     0.005400     28031.0            0.095439   \n",
      "996        163112.0  726.0     0.010636     16501.0            0.023440   \n",
      "997        178632.0  725.0     0.139171     29530.0            0.049440   \n",
      "998        127292.0  823.0     0.095064     27206.0            0.069767   \n",
      "\n",
      "     model_output  model_target discrete_pred  \n",
      "0        0.223082           0.0             0  \n",
      "1        0.954314           1.0             1  \n",
      "2        0.990620           0.0             1  \n",
      "3        0.023174           0.0             0  \n",
      "4        0.107534           0.0             0  \n",
      "..            ...           ...           ...  \n",
      "994      0.074261           0.0             0  \n",
      "995      0.398299           0.0             0  \n",
      "996      0.292492           0.0             0  \n",
      "997      0.095502           0.0             0  \n",
      "998      0.455757           0.0             0  \n",
      "\n",
      "[999 rows x 8 columns]\n"
     ]
    },
    {
     "name": "stderr",
     "output_type": "stream",
     "text": [
      "C:\\Users\\KIIT\\AppData\\Local\\Temp/ipykernel_20584/1528693404.py:6: MatplotlibDeprecationWarning: Support for setting an rcParam that expects a str value to a non-str value is deprecated since 3.5 and support will be removed two minor releases later.\n",
      "  plt.rcParams[\"savefig.directory\"] = os.chdir(os.path.dirname(dir_name))\n"
     ]
    },
    {
     "data": {
      "image/png": "[encoded data removed]",
      "text/plain": [
       "<Figure size 432x288 with 2 Axes>"
      ]
     },
     "metadata": {
      "needs_background": "light"
     },
     "output_type": "display_data"
    }
   ],
   "source": [
    "\n",
    "confmat(\"model_target\", \"model_output\", 0.8)\n"
   ]
  },
  {
   "cell_type": "code",
   "execution_count": null,
   "id": "6a9d4f3a-98b9-4383-802f-91542d2f576e",
   "metadata": {},
   "outputs": [],
   "source": []
  },
  {
   "cell_type": "code",
   "execution_count": null,
   "id": "0d69ab28-60c4-4303-bf03-d9d0087213c6",
   "metadata": {},
   "outputs": [],
   "source": []
  }
 ],
 "metadata": {
  "kernelspec": {
   "display_name": "Python 3 (ipykernel)",
   "language": "python",
   "name": "python3"
  },
  "language_info": {
   "codemirror_mode": {
    "name": "ipython",
    "version": 3
   },
   "file_extension": ".py",
   "mimetype": "text/x-python",
   "name": "python",
   "nbconvert_exporter": "python",
   "pygments_lexer": "ipython3",
   "version": "3.8.5"
  }
 },
 "nbformat": 4,
 "nbformat_minor": 5
}
